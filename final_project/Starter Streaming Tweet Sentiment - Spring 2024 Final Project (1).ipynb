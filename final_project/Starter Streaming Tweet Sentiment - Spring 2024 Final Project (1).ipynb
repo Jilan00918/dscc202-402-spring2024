{
 "cells": [
  {
   "cell_type": "markdown",
   "metadata": {
    "application/vnd.databricks.v1+cell": {
     "cellMetadata": {
      "byteLimit": 2048000,
      "rowLimit": 10000
     },
     "inputWidgets": {},
     "nuid": "fc749083-2211-485c-943f-640e198b2c70",
     "showTitle": false,
     "title": ""
    }
   },
   "source": [
    "## DSCC202-402 Data Science at Scale Final Project\n",
    "### Tracking Tweet sentiment at scale using a pretrained transformer (classifier)\n",
    "<p>Consider the following illustration of the end to end system that you will be building.  Each student should do their own work.  The project will demonstrate your understanding of Spark Streaming, the medalion data architecture using Delta Lake, Spark Inference at Scale using an MLflow packaged model as well as Exploritory Data Analysis and System Tracking and Monitoring.</p>\n",
    "<br><br>\n",
    "<img src=\"https://data-science-at-scale.s3.amazonaws.com/images/pipeline.drawio.png\">\n",
    "\n",
    "<p>\n",
    "You will be pulling an updated copy of the course GitHub repositiory: <a href=\"https://github.com/lpalum/dscc202-402-spring2024\">The Repo</a>.  If you are unclear on how to pull an updated copy using the GitHub command line, the following <a href=\"https://techwritingmatters.com/how-to-update-your-forked-repository-on-github\">document</a> is helpful.  Be sure to add the professors and TAs as collaborators on your project. \n",
    "\n",
    "- lpalum@gmail.com GitHub ID: lpalum\n",
    "- ajay.anand@rochester.edu GitHub ID: ajayan12\n",
    "- divyamunot1999@gmail.com GitHub ID: divyamunot\n",
    "- ylong6@u.Rochester.edu GitHub ID: NinaLong2077\n",
    "\n",
    "Once you have updates your fork of the repository you should see the following template project that is resident in the final_project directory.\n",
    "</p>\n",
    "\n",
    "<img src=\"https://data-science-at-scale.s3.amazonaws.com/images/notebooks.drawio.png\">\n",
    "\n",
    "<p>\n",
    "You can then pull your project into the Databrick Workspace using the <a href=\"https://www.databricks.training/step-by-step/importing-courseware-from-github/index.html\">Repos</a> feature.\n",
    "Each student is expected to submit the URL of their project on GitHub with their code checked in on the main/master branch.  This illustration highlights the branching scheme that you may use to work on your code in steps and then merge your submission into your master branch before submitting.\n",
    "</p>\n",
    "<img src=\"https://data-science-at-scale.s3.amazonaws.com/images/github.drawio.png\">\n",
    "<p>\n",
    "Work your way through this notebook which will give you the steps required to submit a complete and compliant project.  The following illustration and associated data dictionary specifies the transformations and data that you are to generate for each step in the medallion pipeline.\n",
    "</p>\n",
    "<br><br>\n",
    "<img src=\"https://data-science-at-scale.s3.amazonaws.com/images/dataframes.drawio.png\">\n",
    "\n",
    "#### Bronze Data - raw ingest\n",
    "- date - string in the source json\n",
    "- user - string in the source json\n",
    "- text - tweet string in the source json\n",
    "- sentiment - the given sentiment of the text as determined by an unknown model that is provided in the source json\n",
    "- source_file - the path of the source json file the this row of data was read from\n",
    "- processing_time - a timestamp of when you read this row from the source json\n",
    "\n",
    "#### Silver Data - Bronze Preprocessing\n",
    "- timestamp - convert date string in the bronze data to a timestamp\n",
    "- mention - every @username mentioned in the text string in the bronze data gets a row in this silver data table.\n",
    "- cleaned_text - the bronze text data with the mentions (@username) removed.\n",
    "- sentiment - the given sentiment that was associated with the text in the bronze table.\n",
    "\n",
    "#### Gold Data - Silver Table Inference\n",
    "- timestamp - the timestamp from the silver data table rows\n",
    "- mention - the mention from the silver data table rows\n",
    "- cleaned_text - the cleaned_text from the silver data table rows\n",
    "- sentiment - the given sentiment from the silver data table rows\n",
    "- predicted_score - score out of 100 from the Hugging Face Sentiment Transformer\n",
    "- predicted_sentiment - string representation of the sentiment\n",
    "- sentiment_id - 0 for negative and 1 for postive associated with the given sentiment\n",
    "- predicted_sentiment_id - 0 for negative and 1 for positive assocaited with the Hugging Face Sentiment Transformer\n",
    "\n",
    "#### Application Data - Gold Table Aggregation\n",
    "- min_timestamp - the oldest timestamp on a given mention (@username)\n",
    "- max_timestamp - the newest timestamp on a given mention (@username)\n",
    "- mention - the user (@username) that this row pertains to.\n",
    "- negative - total negative tweets directed at this mention (@username)\n",
    "- neutral - total neutral tweets directed at this mention (@username)\n",
    "- positive - total positive tweets directed at this mention (@username)\n",
    "\n",
    "When you are designing your approach, one of the main decisions that you will need to make is how you are going to orchestrate the streaming data processing in your pipeline.  There are several valid approaches.  First, you may choose to start the bronze_stream and let it complete (read and append all of the source data) before preceeding and starting up the silver_stream.  This approach has latency associated with it but it will allow your code to proceed in a linear fashion and process all the data by the end of your notebook execution.  Another potential approach is to start all the streams and have a \"watch\" method to determine when the pipeline has processed sufficient or all of the source data before stopping and displaying results.  Both of these approaches are valid and have different implications on how you will trigger your steams and how you will gate the execution of your pipeline.  Think through how you want to proceed and ask questions if you need guidance. The following references may be helpful:\n",
    "- [Spark Structured Streaming Programming Guide](https://spark.apache.org/docs/latest/structured-streaming-programming-guide.html)\n",
    "- [Databricks Autoloader - Cloudfiles](https://docs.databricks.com/en/ingestion/auto-loader/index.html)\n",
    "\n",
    "### Be sure that your project runs end to end when *Run all* is executued on this notebook! (15 Points out of 60)"
   ]
  },
  {
   "cell_type": "code",
   "execution_count": 0,
   "metadata": {
    "application/vnd.databricks.v1+cell": {
     "cellMetadata": {
      "byteLimit": 2048000,
      "rowLimit": 10000
     },
     "inputWidgets": {},
     "nuid": "068f25d0-1387-4342-89cf-ce82a8d614ce",
     "showTitle": true,
     "title": "Pull in the Includes & Utiltites"
    }
   },
   "outputs": [
    {
     "output_type": "display_data",
     "data": {
      "application/vnd.databricks.v1+bamboolib_hint": "{\"pd.DataFrames\": [], \"version\": \"0.0.1\"}",
      "text/plain": []
     },
     "metadata": {},
     "output_type": "display_data"
    },
    {
     "output_type": "display_data",
     "data": {
      "text/html": [
       "\n",
       "<H2>VERY IMPORTANT TO UNDERSTAND THE USE OF THESE VARIABLES!<br> Please ask if you are confused about their use.</H2>\n",
       "<table border=1>\n",
       "<tr><td><b>Variable Name</b></td><td><b>Value</b></td><td><b>Description</b></td></tr>\n",
       "<tr><td>TWEET_BUCKET_NAME</td><td>voc-75-databricks-data</td><td>AWS S3 Bucket Name where the tweets are coming into your system.</td></tr>\n",
       "<tr><td>TWEET_BUCKET_URL</td><td>https://voc-75-databricks-data.s3.amazonaws.com/</td><td>AWS S3 Bucket URL where the tweets are coming into your system.</td></tr>\n",
       "<tr><td>TWEET_SOURCE_PATH</td><td>s3a://voc-75-databricks-data/voc_volume/</td><td>AWS S3 Path where the tweets are coming into your system.</td></tr>\n",
       "<tr><td>USER_DIR</td><td>/tmp/labuser104917-3017816/</td><td>Path to the local storage (dbfs) for your project.</td></tr>\n",
       "<tr><td>BRONZE_CHECKPOINT</td><td>/tmp/labuser104917-3017816/bronze.checkpoint</td><td>Store your Bronze Checkpoint data here.</td></tr>\n",
       "<tr><td>BRONZE_DELTA</td><td>/tmp/labuser104917-3017816/bronze.delta</td><td>Store your Bronze Delta Table here.</td></tr>\n",
       "<tr><td>SILVER_CHECKPOINT</td><td>/tmp/labuser104917-3017816/silver.checkpoint</td><td>Store your Silver Checkpoint data here.</td></tr>\n",
       "<tr><td>SILVER_DELTA</td><td>/tmp/labuser104917-3017816/silver.delta</td><td>Store your Silver Delta Table here.</td></tr>\n",
       "<tr><td>GOLD_CHECKPOINT</td><td>/tmp/labuser104917-3017816/gold.checkpoint</td><td>Store your Gold Checkpoint data here.</td></tr>\n",
       "<tr><td>GOLD_DELTA</td><td>/tmp/labuser104917-3017816/gold.delta</td><td>Store your Gold Delta Table here.</td></tr>\n",
       "<tr><td>MODEL_NAME</td><td>HF_TWEET_SENTIMENT</td><td>Load this production model</td></tr>\n",
       "<tr><td>HF_MODEL_NAME</td><td>finiteautomata/bertweet-base-sentiment-analysis</td><td>The Hugging Face Model for Tweet sentiment classification: https://huggingface.co/finiteautomata/bertweet-base-sentiment-analysis </td></tr>\n",
       "</table>\n"
      ]
     },
     "metadata": {
      "application/vnd.databricks.v1+output": {
       "addedWidgets": {},
       "arguments": {},
       "data": "\n<H2>VERY IMPORTANT TO UNDERSTAND THE USE OF THESE VARIABLES!<br> Please ask if you are confused about their use.</H2>\n<table border=1>\n<tr><td><b>Variable Name</b></td><td><b>Value</b></td><td><b>Description</b></td></tr>\n<tr><td>TWEET_BUCKET_NAME</td><td>voc-75-databricks-data</td><td>AWS S3 Bucket Name where the tweets are coming into your system.</td></tr>\n<tr><td>TWEET_BUCKET_URL</td><td>https://voc-75-databricks-data.s3.amazonaws.com/</td><td>AWS S3 Bucket URL where the tweets are coming into your system.</td></tr>\n<tr><td>TWEET_SOURCE_PATH</td><td>s3a://voc-75-databricks-data/voc_volume/</td><td>AWS S3 Path where the tweets are coming into your system.</td></tr>\n<tr><td>USER_DIR</td><td>/tmp/labuser104917-3017816/</td><td>Path to the local storage (dbfs) for your project.</td></tr>\n<tr><td>BRONZE_CHECKPOINT</td><td>/tmp/labuser104917-3017816/bronze.checkpoint</td><td>Store your Bronze Checkpoint data here.</td></tr>\n<tr><td>BRONZE_DELTA</td><td>/tmp/labuser104917-3017816/bronze.delta</td><td>Store your Bronze Delta Table here.</td></tr>\n<tr><td>SILVER_CHECKPOINT</td><td>/tmp/labuser104917-3017816/silver.checkpoint</td><td>Store your Silver Checkpoint data here.</td></tr>\n<tr><td>SILVER_DELTA</td><td>/tmp/labuser104917-3017816/silver.delta</td><td>Store your Silver Delta Table here.</td></tr>\n<tr><td>GOLD_CHECKPOINT</td><td>/tmp/labuser104917-3017816/gold.checkpoint</td><td>Store your Gold Checkpoint data here.</td></tr>\n<tr><td>GOLD_DELTA</td><td>/tmp/labuser104917-3017816/gold.delta</td><td>Store your Gold Delta Table here.</td></tr>\n<tr><td>MODEL_NAME</td><td>HF_TWEET_SENTIMENT</td><td>Load this production model</td></tr>\n<tr><td>HF_MODEL_NAME</td><td>finiteautomata/bertweet-base-sentiment-analysis</td><td>The Hugging Face Model for Tweet sentiment classification: https://huggingface.co/finiteautomata/bertweet-base-sentiment-analysis </td></tr>\n</table>\n",
       "datasetInfos": [],
       "metadata": {},
       "removedWidgets": [],
       "textData": null,
       "type": "htmlSandbox"
      }
     },
     "output_type": "display_data"
    },
    {
     "output_type": "stream",
     "name": "stdout",
     "output_type": "stream",
     "text": [
      "the includes are included\n"
     ]
    }
   ],
   "source": [
    "%run ./includes/includes"
   ]
  },
  {
   "cell_type": "code",
   "execution_count": 0,
   "metadata": {
    "application/vnd.databricks.v1+cell": {
     "cellMetadata": {
      "byteLimit": 2048000,
      "rowLimit": 10000
     },
     "inputWidgets": {},
     "nuid": "6512bf1b-50e0-4a4b-84a9-e280a6260b56",
     "showTitle": true,
     "title": "Notebook Control Widgets (maybe helpful)"
    }
   },
   "outputs": [],
   "source": [
    "\"\"\"\n",
    "Adding a widget to the notebook to control the clearing of a previous run.\n",
    "or stopping the active streams using routines defined in the utilities notebook\n",
    "\"\"\"\n",
    "dbutils.widgets.removeAll()\n",
    "\n",
    "dbutils.widgets.dropdown(\"clear_previous_run\", \"No\", [\"No\",\"Yes\"])\n",
    "if (getArgument(\"clear_previous_run\") == \"Yes\"):\n",
    "    clear_previous_run()\n",
    "    print(\"Cleared all previous data.\")\n",
    "\n",
    "dbutils.widgets.dropdown(\"stop_streams\", \"No\", [\"No\",\"Yes\"])\n",
    "if (getArgument(\"stop_streams\") == \"Yes\"):\n",
    "    stop_all_streams()\n",
    "    print(\"Stopped all active streams.\")\n",
    "\n",
    "from delta import *\n",
    "dbutils.widgets.dropdown(\"optimize_tables\", \"No\", [\"No\",\"Yes\"])\n",
    "if (getArgument(\"optimize_tables\") == \"Yes\"):\n",
    "    # Suck up those small files that we have been appending.\n",
    "    DeltaTable.forPath(spark, BRONZE_DELTA).optimize().executeCompaction()\n",
    "    # Suck up those small files that we have been appending.\n",
    "    DeltaTable.forPath(spark, SILVER_DELTA).optimize().executeCompaction()\n",
    "    # Suck up those small files that we have been appending.\n",
    "    DeltaTable.forPath(spark, GOLD_DELTA).optimize().executeCompaction()\n",
    "    print(\"Optimized all of the Delta Tables\")"
   ]
  },
  {
   "cell_type": "markdown",
   "metadata": {
    "application/vnd.databricks.v1+cell": {
     "cellMetadata": {
      "byteLimit": 2048000,
      "rowLimit": 10000
     },
     "inputWidgets": {},
     "nuid": "e8ce7c13-7f8f-4e11-b50c-fdaebbcf3f99",
     "showTitle": false,
     "title": ""
    }
   },
   "source": [
    "## 1.0 Import your libraries here...\n",
    "- Are your shuffle partitions consistent with your cluster and your workload?\n",
    "- Do you have the necessary libraries to perform the required operations in the pipeline/application?"
   ]
  },
  {
   "cell_type": "code",
   "execution_count": 0,
   "metadata": {
    "application/vnd.databricks.v1+cell": {
     "cellMetadata": {
      "byteLimit": 2048000,
      "rowLimit": 10000
     },
     "inputWidgets": {},
     "nuid": "67bafbb7-d34e-4e86-b159-b2e062faa1d0",
     "showTitle": false,
     "title": ""
    }
   },
   "outputs": [],
   "source": [
    "import pandas as pd\n",
    "import time\n",
    "from tqdm import tqdm\n",
    "import requests\n",
    "import json\n",
    "from pyspark.sql.session import SparkSession\n",
    "from pyspark.sql.types import *\n",
    "from pyspark.sql.functions import *\n",
    "import time\n",
    "import matplotlib.pyplot as plt\n",
    "spark.conf.set('spark.sql.shuffle.partitions','32')\n",
    "spark.conf.set('spark.sql.adaptive.enabled','true')\n",
    "spark.conf.set(\"spark.sql.legacy.timeParserPolicy\", \"LEGACY\")"
   ]
  },
  {
   "cell_type": "markdown",
   "metadata": {
    "application/vnd.databricks.v1+cell": {
     "cellMetadata": {
      "byteLimit": 2048000,
      "rowLimit": 10000
     },
     "inputWidgets": {},
     "nuid": "2b7624b4-0aa5-46b7-9767-52f462b2c574",
     "showTitle": false,
     "title": ""
    }
   },
   "source": [
    "## 2.0 Use the utility functions to ...\n",
    "- Read the source file directory listing\n",
    "- Count the source files (how many are there?)\n",
    "- print the contents of one of the files"
   ]
  },
  {
   "cell_type": "code",
   "execution_count": 0,
   "metadata": {
    "application/vnd.databricks.v1+cell": {
     "cellMetadata": {
      "byteLimit": 2048000,
      "rowLimit": 10000
     },
     "inputWidgets": {},
     "nuid": "ba0397bd-2f99-4936-bb81-01dcc021b569",
     "showTitle": false,
     "title": ""
    }
   },
   "outputs": [],
   "source": [
    "df = get_source_listing_df()"
   ]
  },
  {
   "cell_type": "code",
   "execution_count": 0,
   "metadata": {
    "application/vnd.databricks.v1+cell": {
     "cellMetadata": {
      "byteLimit": 2048000,
      "rowLimit": 10000
     },
     "inputWidgets": {},
     "nuid": "0aee7248-6cf4-4c2d-b836-bac8f7680973",
     "showTitle": false,
     "title": ""
    }
   },
   "outputs": [
    {
     "output_type": "stream",
     "name": "stdout",
     "output_type": "stream",
     "text": [
      "Out[10]: 200001"
     ]
    }
   ],
   "source": [
    "len(df)\n",
    "#So there's 20001 source files in total"
   ]
  },
  {
   "cell_type": "code",
   "execution_count": 0,
   "metadata": {
    "application/vnd.databricks.v1+cell": {
     "cellMetadata": {
      "byteLimit": 2048000,
      "rowLimit": 10000
     },
     "inputWidgets": {},
     "nuid": "a59749d5-e45d-460f-9be1-33652cda2ea5",
     "showTitle": false,
     "title": ""
    }
   },
   "outputs": [
    {
     "output_type": "stream",
     "name": "stdout",
     "output_type": "stream",
     "text": [
      "Out[11]: b'{\"date\": \"Mon Apr 06 22:19:45 PDT 2009\", \"user\": \"_TheSpecialOne_\", \"text\": \"@switchfoot http://twitpic.com/2y1zl - Awww, that\\'s a bummer.  You shoulda got David Carr of Third Day to do it. ;D\", \"sentiment\": \"negative\"}'"
     ]
    }
   ],
   "source": [
    "show_s3_file_contents('voc_volume/0.json')\n"
   ]
  },
  {
   "cell_type": "markdown",
   "metadata": {
    "application/vnd.databricks.v1+cell": {
     "cellMetadata": {
      "byteLimit": 2048000,
      "rowLimit": 10000
     },
     "inputWidgets": {},
     "nuid": "1676aed7-527f-4ea7-9d3b-52544e8c1e37",
     "showTitle": false,
     "title": ""
    }
   },
   "source": [
    "## 3.0 Transform the Raw Data to Bronze Data using a stream\n",
    "- define the schema for the raw data\n",
    "- setup a read stream using cloudfiles and the source data format\n",
    "- setup a write stream using cloudfiles to append to the bronze delta table\n",
    "- enforce schema\n",
    "- allow a new schema to be merged into the bronze delta table\n",
    "- Use the defined BRONZE_CHECKPOINT and BRONZE_DELTA paths defines in the includes\n",
    "- name your raw to bronze stream as bronze_stream\n",
    "- transform the raw data to the bronze data using the data definition at the top of the notebook"
   ]
  },
  {
   "cell_type": "code",
   "execution_count": 0,
   "metadata": {
    "application/vnd.databricks.v1+cell": {
     "cellMetadata": {
      "byteLimit": 2048000,
      "rowLimit": 10000
     },
     "inputWidgets": {},
     "nuid": "c4e37574-9885-4908-bf97-609d140a8818",
     "showTitle": false,
     "title": ""
    }
   },
   "outputs": [],
   "source": [
    "rawSchema = StructType([    \n",
    "    StructField('date',StringType(),True), \n",
    "    StructField('user',StringType(),True), \n",
    "    StructField('text',StringType(),True), \n",
    "    StructField('sentiment',StringType(),True),\n",
    "    ]\n",
    ")"
   ]
  },
  {
   "cell_type": "code",
   "execution_count": 0,
   "metadata": {
    "application/vnd.databricks.v1+cell": {
     "cellMetadata": {
      "byteLimit": 2048000,
      "rowLimit": 10000
     },
     "inputWidgets": {},
     "nuid": "0d6dfe1f-0b22-41f0-9670-9c636f372d91",
     "showTitle": false,
     "title": ""
    }
   },
   "outputs": [],
   "source": [
    "raw_df = (\n",
    "    spark.readStream\n",
    "    .schema(rawSchema)\n",
    "    .json(TWEET_SOURCE_PATH)\n",
    ")"
   ]
  },
  {
   "cell_type": "code",
   "execution_count": 0,
   "metadata": {
    "application/vnd.databricks.v1+cell": {
     "cellMetadata": {
      "byteLimit": 2048000,
      "rowLimit": 10000
     },
     "inputWidgets": {},
     "nuid": "339566e0-5f4a-4a44-bdbb-ea8a501cdc14",
     "showTitle": false,
     "title": ""
    }
   },
   "outputs": [],
   "source": [
    "raw_df = raw_df.withColumn(\"source_file\", input_file_name())\n",
    "raw_df = raw_df.withColumn(\"processing_time\", current_timestamp())"
   ]
  },
  {
   "cell_type": "code",
   "execution_count": 0,
   "metadata": {
    "application/vnd.databricks.v1+cell": {
     "cellMetadata": {
      "byteLimit": 2048000,
      "rowLimit": 10000
     },
     "inputWidgets": {},
     "nuid": "a27880d8-3d31-4a33-8923-a3b2967ed129",
     "showTitle": false,
     "title": ""
    }
   },
   "outputs": [],
   "source": [
    "added_bronze_schema = [StructField('source_file', StringType(), True),\n",
    "                      StructField('processing_time', TimestampType(), False)]\n",
    "\n",
    "bronze_defined_schema = StructType(list(rawSchema) + added_bronze_schema)"
   ]
  },
  {
   "cell_type": "code",
   "execution_count": 0,
   "metadata": {
    "application/vnd.databricks.v1+cell": {
     "cellMetadata": {
      "byteLimit": 2048000,
      "rowLimit": 10000
     },
     "inputWidgets": {},
     "nuid": "5c349810-b024-4f8b-bbc2-47f51a03a75a",
     "showTitle": false,
     "title": ""
    }
   },
   "outputs": [],
   "source": [
    "bronze_stream = (raw_df\n",
    "                 .writeStream\n",
    "                 .outputMode(\"append\")\n",
    "                 .format(\"delta\")\n",
    "                 .queryName('bronze_stream')\n",
    "                 .trigger(once=True)\n",
    "                 .option(\"checkpointLocation\", BRONZE_CHECKPOINT)\n",
    "                 .start(BRONZE_DELTA)\n",
    "                )"
   ]
  },
  {
   "cell_type": "markdown",
   "metadata": {
    "application/vnd.databricks.v1+cell": {
     "cellMetadata": {
      "byteLimit": 2048000,
      "rowLimit": 10000
     },
     "inputWidgets": {},
     "nuid": "9bc3e824-d218-43e5-a43b-4c6dbe31950d",
     "showTitle": false,
     "title": ""
    }
   },
   "source": [
    "## 4.0 Bronze Data Exploratory Data Analysis\n",
    "- How many tweets are captured in your Bronze Table?\n",
    "- Are there any columns that contain Nan or Null values?  If so how many and what will you do in your silver transforms to address this?\n",
    "- Count the number of tweets by each unique user handle and sort the data by descending count.\n",
    "- How many tweets have at least one mention (@) how many tweet have no mentions (@)\n",
    "- Plot a bar chart that shows the top 20 tweeters (users)\n"
   ]
  },
  {
   "cell_type": "code",
   "execution_count": 0,
   "metadata": {
    "application/vnd.databricks.v1+cell": {
     "cellMetadata": {
      "byteLimit": 2048000,
      "rowLimit": 10000
     },
     "inputWidgets": {},
     "nuid": "091ec59c-d968-4acf-b56f-cc9178cd0693",
     "showTitle": false,
     "title": ""
    }
   },
   "outputs": [],
   "source": [
    "bronze_table = spark.read.format('delta').load(BRONZE_DELTA)"
   ]
  },
  {
   "cell_type": "code",
   "execution_count": 0,
   "metadata": {
    "application/vnd.databricks.v1+cell": {
     "cellMetadata": {
      "byteLimit": 2048000,
      "rowLimit": 10000
     },
     "inputWidgets": {},
     "nuid": "44462e5f-7b33-4cb3-9c63-84d7477cac85",
     "showTitle": false,
     "title": ""
    }
   },
   "outputs": [],
   "source": [
    "#display(bronze_table)"
   ]
  },
  {
   "cell_type": "code",
   "execution_count": 0,
   "metadata": {
    "application/vnd.databricks.v1+cell": {
     "cellMetadata": {
      "byteLimit": 2048000,
      "rowLimit": 10000
     },
     "inputWidgets": {},
     "nuid": "2cdd1386-30d7-4c39-b621-e82012ed257a",
     "showTitle": false,
     "title": ""
    }
   },
   "outputs": [
    {
     "output_type": "stream",
     "name": "stdout",
     "output_type": "stream",
     "text": [
      "Out[19]: 200000"
     ]
    }
   ],
   "source": [
    "bronze_table.count()\n",
    "#A total of 200000 tweets are captured in the Bronze Table"
   ]
  },
  {
   "cell_type": "code",
   "execution_count": 0,
   "metadata": {
    "application/vnd.databricks.v1+cell": {
     "cellMetadata": {
      "byteLimit": 2048000,
      "rowLimit": 10000
     },
     "inputWidgets": {},
     "nuid": "7806d731-c2b4-41a9-9914-d1ff88f3a226",
     "showTitle": false,
     "title": ""
    }
   },
   "outputs": [
    {
     "output_type": "stream",
     "name": "stdout",
     "output_type": "stream",
     "text": [
      "+----+----+----+---------+-----------+---------------+\n|date|user|text|sentiment|source_file|processing_time|\n+----+----+----+---------+-----------+---------------+\n|   0|   0|   0|        0|          0|              0|\n+----+----+----+---------+-----------+---------------+\n\n"
     ]
    }
   ],
   "source": [
    "bronze_table.select([count(when(col(c).isNull(), c)).alias(c) for c in bronze_table.columns]).show()\n",
    "#This command is used to check number of colums that contain Nan or null values. It seems like none of the columns contain missing value. But if the bronze table contains any missing value, we can simply drop it when constructing the silver table"
   ]
  },
  {
   "cell_type": "code",
   "execution_count": 0,
   "metadata": {
    "application/vnd.databricks.v1+cell": {
     "cellMetadata": {
      "byteLimit": 2048000,
      "rowLimit": 10000
     },
     "inputWidgets": {},
     "nuid": "5faed14b-6558-430f-9d31-c534dac54fa9",
     "showTitle": false,
     "title": ""
    }
   },
   "outputs": [],
   "source": [
    "count_df = bronze_table.groupby('user').count().orderBy(col('count').desc())\n",
    "#count_df.display()\n",
    "#This command counts the number of tweets by each unique user and order descendingly\n"
   ]
  },
  {
   "cell_type": "code",
   "execution_count": 0,
   "metadata": {
    "application/vnd.databricks.v1+cell": {
     "cellMetadata": {
      "byteLimit": 2048000,
      "rowLimit": 10000
     },
     "inputWidgets": {},
     "nuid": "f563e5db-6eee-4d5c-beb7-1a77d829b3b3",
     "showTitle": false,
     "title": ""
    }
   },
   "outputs": [
    {
     "output_type": "stream",
     "name": "stdout",
     "output_type": "stream",
     "text": [
      "Number of tweets with at least one mention:  93803\nNumber of tweets with no mention:  106197\n"
     ]
    }
   ],
   "source": [
    "\n",
    "# Count the tweets have at least one mention\n",
    "mentioned_tweets = bronze_table.filter(bronze_table[\"text\"].rlike(\"@.\"))\n",
    "mentioned_tweets_count = mentioned_tweets.count()\n",
    "\n",
    "# Count the tweets have no mentions\n",
    "no_mentioned_tweets = bronze_table.filter(~bronze_table[\"text\"].rlike(\"@.\"))\n",
    "no_mentioned_tweets_count = no_mentioned_tweets.count()\n",
    "\n",
    "# Print out the number of count\n",
    "print(\"Number of tweets with at least one mention: \", mentioned_tweets_count)\n",
    "print(\"Number of tweets with no mention: \", no_mentioned_tweets_count)"
   ]
  },
  {
   "cell_type": "code",
   "execution_count": 0,
   "metadata": {
    "application/vnd.databricks.v1+cell": {
     "cellMetadata": {
      "byteLimit": 2048000,
      "rowLimit": 10000
     },
     "inputWidgets": {},
     "nuid": "150e8b0d-8232-45c1-82ac-3c9dd94c8626",
     "showTitle": false,
     "title": ""
    }
   },
   "outputs": [
    {
     "output_type": "stream",
     "name": "stdout",
     "output_type": "stream",
     "text": [
      "<Figure size 1152x720 with 0 Axes>"
     ]
    },
    {
     "output_type": "display_data",
     "data": {
      "image/png": "[encoded data removed]"
     },
     "metadata": {
      "application/vnd.databricks.v1+output": {
       "addedWidgets": {},
       "arguments": {},
       "data": "data:image/png;base64,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\n",
       "datasetInfos": [],
       "metadata": {},
       "removedWidgets": [],
       "type": "image"
      }
     },
     "output_type": "display_data"
    }
   ],
   "source": [
    "\n",
    "# Retrieve the top 20 tweeters\n",
    "top_20_tweetuser = count_df.limit(20)\n",
    "top_20_tweetuser = top_20_tweetuser.toPandas().set_index('user')\n",
    "\n",
    "# Plot a bar chart that shows the top 20 tweeters (users)\n",
    "plt.figure(figsize=(16, 10))\n",
    "top_20_tweetuser.plot(kind='bar', color='skyblue')\n",
    "plt.title('Top 20 tweeters (users) & Tweets Count')\n",
    "plt.xlabel('Users')\n",
    "plt.ylabel('Count')\n",
    "plt.xticks(rotation=90)\n",
    "plt.grid(True, linestyle='--', alpha=0.6)\n",
    "plt.show()"
   ]
  },
  {
   "cell_type": "markdown",
   "metadata": {
    "application/vnd.databricks.v1+cell": {
     "cellMetadata": {
      "byteLimit": 2048000,
      "rowLimit": 10000
     },
     "inputWidgets": {},
     "nuid": "38c290b9-a42a-4551-857b-3f461b8a1be6",
     "showTitle": false,
     "title": ""
    }
   },
   "source": [
    "## 5.0 Transform the Bronze Data to Silver Data using a stream\n",
    "- setup a read stream on your bronze delta table\n",
    "- setup a write stream to append to the silver delta table\n",
    "- Use the defined SILVER_CHECKPOINT and SILVER_DELTA paths in the includes\n",
    "- name your bronze to silver stream as silver_stream\n",
    "- transform the bronze data to the silver data using the data definition at the top of the notebook"
   ]
  },
  {
   "cell_type": "code",
   "execution_count": 0,
   "metadata": {
    "application/vnd.databricks.v1+cell": {
     "cellMetadata": {
      "byteLimit": 2048000,
      "rowLimit": 10000
     },
     "inputWidgets": {},
     "nuid": "65b029cb-ba45-4625-a9c1-d0d410a4962b",
     "showTitle": false,
     "title": ""
    }
   },
   "outputs": [],
   "source": [
    "#setup a read stream on the bronze delta table\n",
    "bronze_df = (spark\n",
    "             .readStream\n",
    "             .format('delta')            \n",
    "             .load(BRONZE_DELTA))"
   ]
  },
  {
   "cell_type": "code",
   "execution_count": 0,
   "metadata": {
    "application/vnd.databricks.v1+cell": {
     "cellMetadata": {
      "byteLimit": 2048000,
      "rowLimit": 10000
     },
     "inputWidgets": {},
     "nuid": "31667a61-d0f7-46a8-b722-94996d16ac4c",
     "showTitle": false,
     "title": ""
    }
   },
   "outputs": [],
   "source": [
    "\n",
    "transform_silver_df = (bronze_df.withColumn('mention', explode(split(col('text'), \" \")))\n",
    "              .filter(col('mention').rlike(r\"^@\\w+\"))\n",
    "              .withColumn(\"mention\", regexp_extract(col(\"mention\"), r\"@(\\w+)\", 0))\n",
    "              .withColumn('cleaned_text', regexp_replace(col('text'), r\"@(\\w+)\", \"\"))\n",
    "              .withColumn('cleaned_text', ltrim(col('cleaned_text')))\n",
    "              .withColumn('timestamp', to_timestamp(col('date'), \"EEE MMM dd HH:mm:ss zzz yyyy\"))\n",
    "              .select('timestamp', 'mention', 'cleaned_text', 'sentiment'))"
   ]
  },
  {
   "cell_type": "code",
   "execution_count": 0,
   "metadata": {
    "application/vnd.databricks.v1+cell": {
     "cellMetadata": {
      "byteLimit": 2048000,
      "rowLimit": 10000
     },
     "inputWidgets": {},
     "nuid": "6425b35c-e64f-4cc9-b2ec-ce803d50a06f",
     "showTitle": false,
     "title": ""
    }
   },
   "outputs": [],
   "source": [
    "silver_stream = (transform_silver_df\n",
    "                 .writeStream\n",
    "                 .format(\"delta\")\n",
    "                 .outputMode(\"append\")\n",
    "                 .queryName('silver_stream')\n",
    "                 .trigger(once=True)\n",
    "                 .option(\"checkpointLocation\", SILVER_CHECKPOINT)\n",
    "                 .start(SILVER_DELTA)\n",
    "                 )"
   ]
  },
  {
   "cell_type": "markdown",
   "metadata": {
    "application/vnd.databricks.v1+cell": {
     "cellMetadata": {
      "byteLimit": 2048000,
      "rowLimit": 10000
     },
     "inputWidgets": {},
     "nuid": "9ee38aba-e340-4766-8339-71ef2ecfde3a",
     "showTitle": false,
     "title": ""
    }
   },
   "source": [
    "## 6.0 Transform the Silver Data to Gold Data using a stream\n",
    "- setup a read stream on your silver delta table\n",
    "- setup a write stream to append to the gold delta table\n",
    "- Use the defined GOLD_CHECKPOINT and GOLD_DELTA paths defines in the includes\n",
    "- name your silver to gold stream as gold_stream\n",
    "- transform the silver data to the gold data using the data definition at the top of the notebook\n",
    "- Load the pretrained transformer sentiment classifier from the MODEL_NAME at the production level from the MLflow registry\n",
    "- Use a spark UDF to parallelize the inference across your silver data"
   ]
  },
  {
   "cell_type": "code",
   "execution_count": 0,
   "metadata": {
    "application/vnd.databricks.v1+cell": {
     "cellMetadata": {
      "byteLimit": 2048000,
      "rowLimit": 10000
     },
     "inputWidgets": {},
     "nuid": "31e8949d-c016-44a7-9f03-65f471dfd22d",
     "showTitle": false,
     "title": ""
    }
   },
   "outputs": [],
   "source": [
    "# A read stream for silver delta\n",
    "silver_table = (spark\n",
    "                .readStream\n",
    "                .format('delta')\n",
    "                .load(SILVER_DELTA))"
   ]
  },
  {
   "cell_type": "code",
   "execution_count": 0,
   "metadata": {
    "application/vnd.databricks.v1+cell": {
     "cellMetadata": {
      "byteLimit": 2048000,
      "rowLimit": 10000
     },
     "inputWidgets": {},
     "nuid": "05830d16-5209-4b61-ada5-0b4c86fed8de",
     "showTitle": false,
     "title": ""
    }
   },
   "outputs": [
    {
     "output_type": "stream",
     "name": "stdout",
     "output_type": "stream",
     "text": [
      "/local_disk0/.ephemeral_nfs/envs/pythonEnv-64b1405e-946d-4f41-b41d-af4f62872ee7/lib/python3.9/site-packages/mlflow/store/artifact/utils/models.py:32: FutureWarning: ``mlflow.tracking.client.MlflowClient.get_latest_versions`` is deprecated since 2.9.0. Model registry stages will be removed in a future major release. To learn more about the deprecation of model registry stages, see our migration guide here: https://mlflow.org/docs/2.12.1/model-registry.html#migrating-from-stages\n  latest = client.get_latest_versions(name, None if stage is None else [stage])\n"
     ]
    },
    {
     "output_type": "display_data",
     "data": {
      "application/vnd.jupyter.widget-view+json": {
       "model_id": "9e17fec31d4546bda8a4dee08ee640cf",
       "version_major": 2,
       "version_minor": 0
      },
      "text/plain": [
       "Downloading artifacts:   0%|          | 0/25 [00:00<?, ?it/s]"
      ]
     },
     "metadata": {},
     "output_type": "display_data"
    },
    {
     "output_type": "stream",
     "name": "stdout",
     "output_type": "stream",
     "text": [
      "2024/05/09 15:13:43 INFO mlflow.store.artifact.artifact_repo: The progress bar can be disabled by setting the environment variable MLFLOW_ENABLE_ARTIFACTS_PROGRESS_BAR to false\n2024/05/09 15:13:50 WARNING mlflow.utils.requirements_utils: Detected one or more mismatches between the model's dependencies and the current Python environment:\n - mlflow (current: 2.12.1, required: mlflow==2.11.3)\nTo fix the mismatches, call `mlflow.pyfunc.get_model_dependencies(model_uri)` to fetch the model's environment and install dependencies using the resulting environment file.\n2024/05/09 15:13:50 WARNING mlflow.pyfunc: Calling `spark_udf()` with `env_manager=\"local\"` does not recreate the same environment that was used during training, which may lead to errors or inaccurate predictions. We recommend specifying `env_manager=\"conda\"`, which automatically recreates the environment that was used to train the model and performs inference in the recreated environment.\n"
     ]
    },
    {
     "output_type": "display_data",
     "data": {
      "application/vnd.jupyter.widget-view+json": {
       "model_id": "99afbbea95cf4b7bb6f873f4e183b5e0",
       "version_major": 2,
       "version_minor": 0
      },
      "text/plain": [
       "Downloading artifacts:   0%|          | 0/1 [00:00<?, ?it/s]"
      ]
     },
     "metadata": {},
     "output_type": "display_data"
    },
    {
     "output_type": "stream",
     "name": "stdout",
     "output_type": "stream",
     "text": [
      "2024/05/09 15:13:51 INFO mlflow.models.flavor_backend_registry: Selected backend for flavor 'python_function'\n"
     ]
    }
   ],
   "source": [
    "\n",
    "import mlflow.pyfunc\n",
    "\n",
    "model_name = MODEL_NAME\n",
    "apply_model_udf = mlflow.pyfunc.spark_udf(spark, f\"models:/{model_name}/production\")"
   ]
  },
  {
   "cell_type": "code",
   "execution_count": 0,
   "metadata": {
    "application/vnd.databricks.v1+cell": {
     "cellMetadata": {
      "byteLimit": 2048000,
      "rowLimit": 10000
     },
     "inputWidgets": {},
     "nuid": "80588c91-cfce-4b96-9f39-8d05510090a6",
     "showTitle": false,
     "title": ""
    }
   },
   "outputs": [],
   "source": [
    "\n",
    "predict_df = (silver_table\n",
    "              .withColumn('predicted', apply_model_udf(col('cleaned_text')))\n",
    "              .withColumn(\"predicted_sentiment\", col(\"predicted.label\"))\n",
    "              .withColumn('predicted_score', col('predicted.score'))\n",
    "              .withColumn('sentiment_id', \n",
    "                          when(col('sentiment') == 'positive', 1)\n",
    "                          .when(col('sentiment') == 'negative', 0))\n",
    "              .withColumn('predicted_sentiment_id',\n",
    "                          when(col('predicted_sentiment') == 'POS', 1)\n",
    "                          .when(col('predicted_sentiment') == 'NEG', 0)\n",
    "                          .otherwise(-1)\n",
    "                          )\n",
    "              .select('timestamp', 'mention', 'cleaned_text', 'sentiment', (col('predicted_score')*100).alias('predicted_score').cast('double'), 'predicted_sentiment', col('sentiment_id').cast('int'), col('predicted_sentiment_id').cast('int'))\n",
    "              )"
   ]
  },
  {
   "cell_type": "code",
   "execution_count": 0,
   "metadata": {
    "application/vnd.databricks.v1+cell": {
     "cellMetadata": {
      "byteLimit": 2048000,
      "rowLimit": 10000
     },
     "inputWidgets": {},
     "nuid": "d25e205f-984b-411f-9b14-39e1e9ef63c1",
     "showTitle": false,
     "title": ""
    }
   },
   "outputs": [],
   "source": [
    "\n",
    "gold_stream = (predict_df\n",
    "               .writeStream\n",
    "               .format(\"delta\")\n",
    "               .outputMode(\"append\")\n",
    "               .queryName('gold_stream')\n",
    "               .trigger(once=True)\n",
    "               .option(\"checkpointLocation\", GOLD_CHECKPOINT)\n",
    "               .start(GOLD_DELTA)\n",
    "               )"
   ]
  },
  {
   "cell_type": "markdown",
   "metadata": {
    "application/vnd.databricks.v1+cell": {
     "cellMetadata": {
      "byteLimit": 2048000,
      "rowLimit": 10000
     },
     "inputWidgets": {},
     "nuid": "0494d8b4-5a55-47fc-af12-47325f34a303",
     "showTitle": false,
     "title": ""
    }
   },
   "source": [
    "## 7.0 Capture the accuracy metrics from the gold table in MLflow\n",
    "Store the following in an MLflow experiment run:\n",
    "- Store the precision, recall, and F1-score as MLflow metrics\n",
    "- Store an image of the confusion matrix as an MLflow artifact\n",
    "- Store the mdoel name and the MLflow version that was used as an MLflow parameters\n",
    "- Store the version of the Delta Table (input-silver) as an MLflow parameter"
   ]
  },
  {
   "cell_type": "code",
   "execution_count": 0,
   "metadata": {
    "application/vnd.databricks.v1+cell": {
     "cellMetadata": {
      "byteLimit": 2048000,
      "rowLimit": 10000
     },
     "inputWidgets": {},
     "nuid": "3bb174ad-67e4-4b0a-be36-ff20a760ee8b",
     "showTitle": false,
     "title": ""
    }
   },
   "outputs": [],
   "source": [
    "\n",
    "gold_table = (spark\n",
    "              .read\n",
    "              .format('delta')\n",
    "              .load(GOLD_DELTA))"
   ]
  },
  {
   "cell_type": "code",
   "execution_count": 0,
   "metadata": {
    "application/vnd.databricks.v1+cell": {
     "cellMetadata": {
      "byteLimit": 2048000,
      "rowLimit": 10000
     },
     "inputWidgets": {},
     "nuid": "8614654f-d38c-47ec-8a66-5582e07783ba",
     "showTitle": false,
     "title": ""
    }
   },
   "outputs": [],
   "source": [
    "#From the model, predicted sentiment has three classes positive negative and neutral. But in the original dataset, there's only positive and negative. So I decide to drop all rows with Neutral predicted sentiment\n",
    "from pyspark.sql.functions import col\n",
    "gold_table = (gold_table\n",
    "              .filter(col('predicted_sentiment') != 'NEU')\n",
    "              .select(['timestamp', 'mention', 'cleaned_text', 'sentiment', 'predicted_score', 'predicted_sentiment', 'sentiment_id', 'predicted_sentiment_id'])\n",
    "              )"
   ]
  },
  {
   "cell_type": "code",
   "execution_count": 0,
   "metadata": {
    "application/vnd.databricks.v1+cell": {
     "cellMetadata": {
      "byteLimit": 2048000,
      "rowLimit": 10000
     },
     "inputWidgets": {},
     "nuid": "01da4fbc-5251-47db-86bc-cd35b34e9061",
     "showTitle": false,
     "title": ""
    }
   },
   "outputs": [],
   "source": [
    "import mlflow\n",
    "import mlflow.sklearn\n",
    "from sklearn.metrics import precision_score, recall_score, f1_score, confusion_matrix\n",
    "import matplotlib.pyplot as plt\n",
    "import seaborn as sns\n",
    "import tempfile\n",
    "from delta.tables import DeltaTable\n",
    "\n",
    "y_true = gold_table.select('sentiment_id').collect()\n",
    "y_pred = gold_table.select('predicted_sentiment_id').collect()\n",
    "\n",
    "    # Calculate the metrics\n",
    "precision = precision_score(y_true, y_pred)\n",
    "recall = recall_score(y_true, y_pred)\n",
    "f1 = f1_score(y_true, y_pred)\n",
    "\n",
    "\n",
    "with mlflow.start_run():\n",
    "    # Log evaluation metrics\n",
    "    mlflow.log_metric(\"precision\", precision)\n",
    "    mlflow.log_metric(\"recall\", recall)\n",
    "    mlflow.log_metric(\"f1_score\", f1)\n",
    "\n",
    "    confusion = confusion_matrix(y_true, y_pred)\n",
    "\n",
    "    fig, ax = plt.subplots(figsize=(8, 6))\n",
    "    sns.heatmap(confusion, annot=True, fmt='d', cmap='Blues', cbar=False)\n",
    "    plt.xlabel('Predicted')\n",
    "    plt.ylabel('True')\n",
    "    plt.title('Confusion Matrix')\n",
    "\n",
    "    # Save the confusion matrix plot to a temporary file\n",
    "    temp_file = tempfile.NamedTemporaryFile(suffix=\".png\", delete=False)\n",
    "    plt.savefig(temp_file.name)\n",
    "    plt.close()\n",
    "\n",
    "    mlflow.log_artifact(temp_file.name, artifact_path=\"confusion_matrix\")\n",
    "\n",
    "    # Store the model's name and model's version as MLflow parameters\n",
    "    model_name = MODEL_NAME\n",
    "    mlflow.log_param(\"model_name\", model_name)\n",
    "    mlflow.log_param(\"mlflow_version\", mlflow.version.VERSION)\n",
    "\n",
    "    # Store the version of delta table as MLflow parameter\n",
    "    delta_table = DeltaTable.forPath(spark, SILVER_DELTA)\n",
    "    delta_version = delta_table.history().orderBy(\"version\").select(\"version\").collect()[-1][0]\n",
    "    mlflow.log_param(\"delta_version\", delta_version)\n",
    "\n",
    "    mlflow.end_run()\n",
    "   "
   ]
  },
  {
   "cell_type": "code",
   "execution_count": 0,
   "metadata": {
    "application/vnd.databricks.v1+cell": {
     "cellMetadata": {},
     "inputWidgets": {},
     "nuid": "1a7e8ea3-65cb-42de-b85e-617ef9e5d807",
     "showTitle": false,
     "title": ""
    }
   },
   "outputs": [],
   "source": [
    "precision"
   ]
  },
  {
   "cell_type": "markdown",
   "metadata": {
    "application/vnd.databricks.v1+cell": {
     "cellMetadata": {
      "byteLimit": 2048000,
      "rowLimit": 10000
     },
     "inputWidgets": {},
     "nuid": "81e0e2de-b872-4698-81cc-1669646c2183",
     "showTitle": false,
     "title": ""
    }
   },
   "source": [
    "## 8.0 Application Data Processing and Visualization\n",
    "- How many mentions are there in the gold data total?\n",
    "- Count the number of neutral, positive and negative tweets for each mention in new columns\n",
    "- Capture the total for each mention in a new column\n",
    "- Sort the mention count totals in descending order\n",
    "- Plot a bar chart of the top 20 mentions with positive sentiment (the people who are in favor)\n",
    "- Plot a bar chart of the top 20 mentions with negative sentiment (the people who are the vilians)\n",
    "\n",
    "You may want to use the \"Loop Application\" widget to control whether you repeateded display the latest plots while the data comes in from your streams before moving on to the next section and cleaning up your run.\n",
    "\n",
    "*note: A mention is a specific twitter user that has been \"mentioned\" in a tweet with an @user reference."
   ]
  },
  {
   "cell_type": "code",
   "execution_count": 0,
   "metadata": {
    "application/vnd.databricks.v1+cell": {
     "cellMetadata": {
      "byteLimit": 2048000,
      "rowLimit": 10000
     },
     "inputWidgets": {},
     "nuid": "8250667b-eaa5-48a1-90c7-bfe11e666e32",
     "showTitle": false,
     "title": ""
    }
   },
   "outputs": [
    {
     "output_type": "stream",
     "name": "stdout",
     "output_type": "stream",
     "text": [
      "Out[11]: 66502"
     ]
    }
   ],
   "source": [
    "gold_table.count()\n",
    "#There's a total of 66502 mentions in the gold data"
   ]
  },
  {
   "cell_type": "code",
   "execution_count": 0,
   "metadata": {
    "application/vnd.databricks.v1+cell": {
     "cellMetadata": {
      "byteLimit": 2048000,
      "rowLimit": 10000
     },
     "inputWidgets": {},
     "nuid": "3b2674cd-9c20-4503-b20b-653a66c801fa",
     "showTitle": false,
     "title": ""
    }
   },
   "outputs": [],
   "source": [
    "from pyspark.sql.functions import col, min, max, sum\n",
    "\n",
    "mention_sentiment = (gold_table\n",
    "          .groupBy('mention')\n",
    "          .agg(min('timestamp').alias('min_timestamp'),\n",
    "               max('timestamp').alias('max_timestamp'),\n",
    "               sum((gold_table.sentiment == 'negative').cast('int')).alias('negative_count'),\n",
    "               sum((gold_table.sentiment == 'positive').cast('int')).alias('positive_count'))\n",
    "          .withColumn('total_count', col('negative_count') + col('positive_count'))\n",
    "          .select('min_timestamp', 'max_timestamp', 'mention', 'negative_count', 'positive_count', 'total_count')\n",
    "          )\n",
    "\n",
    "#display(mention_sentiment)\n"
   ]
  },
  {
   "cell_type": "code",
   "execution_count": 0,
   "metadata": {
    "application/vnd.databricks.v1+cell": {
     "cellMetadata": {
      "byteLimit": 2048000,
      "rowLimit": 10000
     },
     "inputWidgets": {},
     "nuid": "62d5eede-29ce-4846-99b1-330f7b65e4f1",
     "showTitle": false,
     "title": ""
    }
   },
   "outputs": [
    {
     "output_type": "display_data",
     "data": {
      "image/png": "[encoded data removed]"
     },
     "metadata": {
      "application/vnd.databricks.v1+output": {
       "addedWidgets": {},
       "arguments": {},
       "data": "data:image/png;base64,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\n",
       "datasetInfos": [],
       "metadata": {},
       "removedWidgets": [],
       "type": "image"
      }
     },
     "output_type": "display_data"
    }
   ],
   "source": [
    "from pyspark.sql import functions as F\n",
    "top_positive_mentions = mention_sentiment.orderBy(F.desc(\"positive_count\")).limit(20).toPandas()\n",
    "plt.figure(figsize=(10, 6))\n",
    "plt.barh(top_positive_mentions[\"mention\"], top_positive_mentions[\"positive_count\"], color='green')\n",
    "plt.xlabel(\"Count of Positive Mentions\")\n",
    "plt.ylabel(\"Mention\")\n",
    "plt.title(\"Top 20 Mentions with Positive Sentiment\")\n",
    "plt.gca().invert_yaxis()  # Reverse the y-axis to have the largest bar on top\n",
    "plt.show()"
   ]
  },
  {
   "cell_type": "code",
   "execution_count": 0,
   "metadata": {
    "application/vnd.databricks.v1+cell": {
     "cellMetadata": {
      "byteLimit": 2048000,
      "rowLimit": 10000
     },
     "inputWidgets": {},
     "nuid": "112c48fd-406f-47a1-9a74-1e8fdcb4ba94",
     "showTitle": false,
     "title": ""
    }
   },
   "outputs": [
    {
     "output_type": "display_data",
     "data": {
      "image/png": "[encoded data removed]"
     },
     "metadata": {
      "application/vnd.databricks.v1+output": {
       "addedWidgets": {},
       "arguments": {},
       "data": "data:image/png;base64,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\n",
       "datasetInfos": [],
       "metadata": {},
       "removedWidgets": [],
       "type": "image"
      }
     },
     "output_type": "display_data"
    }
   ],
   "source": [
    "# Step 6: Plot the top 20 mentions with negative sentiment\n",
    "top_negative_mentions = mention_sentiment.orderBy(F.desc(\"negative_count\")).limit(20).toPandas()\n",
    "plt.figure(figsize=(10, 6))\n",
    "plt.barh(top_negative_mentions[\"mention\"], top_negative_mentions[\"negative_count\"], color='red')\n",
    "plt.xlabel(\"Count of Negative Mentions\")\n",
    "plt.ylabel(\"Mention\")\n",
    "plt.title(\"Top 20 Mentions with Negative Sentiment\")\n",
    "plt.gca().invert_yaxis()  # Reverse the y-axis to have the largest bar on top\n",
    "plt.show()"
   ]
  },
  {
   "cell_type": "markdown",
   "metadata": {
    "application/vnd.databricks.v1+cell": {
     "cellMetadata": {
      "byteLimit": 2048000,
      "rowLimit": 10000
     },
     "inputWidgets": {},
     "nuid": "5d5add3f-0c13-4d81-86d8-12cf3cfdd2c8",
     "showTitle": false,
     "title": ""
    }
   },
   "source": [
    "## 9.0 Clean up and completion of your pipeline\n",
    "- using the utilities what streams are running? If any.\n",
    "- Stop all active streams\n",
    "- print out the elapsed time of your notebook."
   ]
  },
  {
   "cell_type": "code",
   "execution_count": 0,
   "metadata": {
    "application/vnd.databricks.v1+cell": {
     "cellMetadata": {
      "byteLimit": 2048000,
      "rowLimit": 10000
     },
     "inputWidgets": {},
     "nuid": "90924e62-2fce-4da7-b845-b736bc6929b0",
     "showTitle": false,
     "title": ""
    }
   },
   "outputs": [],
   "source": [
    "active_streams = spark.streams.active\n",
    "\n",
    "# Display detailed information about each active streaming query\n",
    "for query in active_streams:\n",
    "    print(f\"Query Name: {query.name}\")\n",
    "    print(\"-------------------------\")"
   ]
  },
  {
   "cell_type": "code",
   "execution_count": 0,
   "metadata": {
    "application/vnd.databricks.v1+cell": {
     "cellMetadata": {
      "byteLimit": 2048000,
      "rowLimit": 10000
     },
     "inputWidgets": {},
     "nuid": "e92da078-0956-4353-990e-0d57b30e0392",
     "showTitle": false,
     "title": ""
    }
   },
   "outputs": [
    {
     "output_type": "stream",
     "name": "stdout",
     "output_type": "stream",
     "text": [
      "Out[18]: False"
     ]
    }
   ],
   "source": [
    "stop_all_streams()"
   ]
  },
  {
   "cell_type": "code",
   "execution_count": 0,
   "metadata": {
    "application/vnd.databricks.v1+cell": {
     "cellMetadata": {
      "byteLimit": 2048000,
      "rowLimit": 10000
     },
     "inputWidgets": {},
     "nuid": "0304e685-c26e-447d-b230-c37266f30003",
     "showTitle": false,
     "title": ""
    }
   },
   "outputs": [],
   "source": [
    "DA.cleanup()"
   ]
  },
  {
   "cell_type": "code",
   "execution_count": 0,
   "metadata": {
    "application/vnd.databricks.v1+cell": {
     "cellMetadata": {
      "byteLimit": 2048000,
      "rowLimit": 10000
     },
     "inputWidgets": {},
     "nuid": "ea759fc8-1d78-4d6d-b571-e2e256448b76",
     "showTitle": false,
     "title": ""
    }
   },
   "outputs": [
    {
     "output_type": "stream",
     "name": "stdout",
     "output_type": "stream",
     "text": [
      "It took 712.7130763530731 to run all the notebook\n"
     ]
    }
   ],
   "source": [
    "# Get the notebooks ending time note START_TIME was established in the include file when the notebook started.\n",
    "END_TIME = time.time()\n",
    "TOTAL_TIME = END_TIME - START_TIME\n",
    "print(f'It took {TOTAL_TIME} to run all the notebook')"
   ]
  },
  {
   "cell_type": "markdown",
   "metadata": {
    "application/vnd.databricks.v1+cell": {
     "cellMetadata": {
      "byteLimit": 2048000,
      "rowLimit": 10000
     },
     "inputWidgets": {},
     "nuid": "b88fc0e5-f50c-4ed1-9480-16a4c8a44b30",
     "showTitle": false,
     "title": ""
    }
   },
   "source": [
    "## 10.0 How Optimized is your Spark Application (Grad Students Only)\n",
    "Graduate students (registered for the DSCC-402 section of the course) are required to do this section.  This is a written analysis using the Spark UI (link to screen shots) that support your analysis of your pipelines execution and what is driving its performance.\n",
    "Recall that Spark Optimization has 5 significant dimensions of considertation:\n",
    "- Spill: write to executor disk due to lack of memory\n",
    "- Skew: imbalance in partition size\n",
    "- Shuffle: network io moving data between executors (wide transforms)\n",
    "- Storage: inefficiency due to disk storage format (small files, location)\n",
    "- Serialization: distribution of code segments across the cluster\n",
    "\n",
    "Comment on each of the dimentions of performance and how your impelementation is or is not being affected.  Use specific information in the Spark UI to support your description.  \n",
    "\n",
    "Note: you can take sreenshots of the Spark UI from your project runs in databricks and then link to those pictures by storing them as a publicly accessible file on your cloud drive (google, one drive, etc.)\n",
    "\n",
    "References:\n",
    "- [Spark UI Reference Reference](https://spark.apache.org/docs/latest/web-ui.html#web-ui)\n",
    "- [Spark UI Simulator](https://www.databricks.training/spark-ui-simulator/index.html)"
   ]
  },
  {
   "cell_type": "markdown",
   "metadata": {
    "application/vnd.databricks.v1+cell": {
     "cellMetadata": {
      "byteLimit": 2048000,
      "rowLimit": 10000
     },
     "inputWidgets": {},
     "nuid": "a0a5707d-a5ca-4e87-9e74-3b13d00337b0",
     "showTitle": false,
     "title": ""
    }
   },
   "source": [
    "### Spill: I don't observe spill issues during the whole notebook execution\n",
    "### Skew: Imbalanced data did exist, but streaming and other implementation wasn't being affected a lot.\n",
    "### Storage: I don't think there's inefficient storage issue exists\n",
    "### Serialization: Yes, serialization increase the overall running effiency since I set 4 parallel executors at the initialization stage\n",
    "### Shuffle: Shuffle reading occurs and slows down the implementation of streaming and reading."
   ]
  }
 ],
 "metadata": {
  "application/vnd.databricks.v1+notebook": {
   "dashboards": [],
   "language": "python",
   "notebookMetadata": {
    "mostRecentlyExecutedCommandWithImplicitDF": {
     "commandId": -1,
     "dataframes": [
      "_sqldf"
     ]
    },
    "pythonIndentUnit": 4,
    "widgetLayout": [
     {
      "breakBefore": false,
      "name": "clear_previous_run",
      "width": 203
     },
     {
      "breakBefore": false,
      "name": "stop_streams",
      "width": 203
     }
    ]
   },
   "notebookName": "Starter Streaming Tweet Sentiment - Spring 2024 Final Project",
   "widgets": {
    "clear_previous_run": {
     "currentValue": "No",
     "nuid": "11b43403-c70f-41ef-ab0e-41172583baaa",
     "typedWidgetInfo": null,
     "widgetInfo": {
      "widgetType": "dropdown",
      "defaultValue": "No",
      "label": null,
      "name": "clear_previous_run",
      "options": {
       "widgetType": "dropdown",
       "autoCreated": null,
       "choices": [
        "No",
        "Yes"
       ]
      }
     }
    },
    "optimize_tables": {
     "currentValue": "No",
     "nuid": "d27f2950-3146-4010-8bc6-58c47a93e7a9",
     "typedWidgetInfo": null,
     "widgetInfo": {
      "widgetType": "dropdown",
      "defaultValue": "No",
      "label": null,
      "name": "optimize_tables",
      "options": {
       "widgetType": "dropdown",
       "autoCreated": null,
       "choices": [
        "No",
        "Yes"
       ]
      }
     }
    },
    "stop_streams": {
     "currentValue": "No",
     "nuid": "d70a2190-266e-473c-86a7-84f7bf56b386",
     "typedWidgetInfo": null,
     "widgetInfo": {
      "widgetType": "dropdown",
      "defaultValue": "No",
      "label": null,
      "name": "stop_streams",
      "options": {
       "widgetType": "dropdown",
       "autoCreated": null,
       "choices": [
        "No",
        "Yes"
       ]
      }
     }
    }
   }
  }
 },
 "nbformat": 4,
 "nbformat_minor": 0
}
